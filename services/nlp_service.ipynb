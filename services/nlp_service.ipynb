{
 "cells": [
  {
   "cell_type": "code",
   "execution_count": 33,
   "id": "009ce94b",
   "metadata": {},
   "outputs": [],
   "source": [
    "import pandas as pd\n",
    "import numpy as np\n",
    "import re"
   ]
  },
  {
   "cell_type": "code",
   "execution_count": 50,
   "id": "48625ecd",
   "metadata": {},
   "outputs": [],
   "source": [
    "df_dataset = pd.read_csv('ml_concepts_dataset_60k.csv')"
   ]
  },
  {
   "cell_type": "code",
   "execution_count": 52,
   "id": "e3179632",
   "metadata": {},
   "outputs": [
    {
     "name": "stdout",
     "output_type": "stream",
     "text": [
      "Before Cleaning :  (60000, 15)\n"
     ]
    }
   ],
   "source": [
    "print(\"Before Cleaning : \", df_dataset.shape)"
   ]
  },
  {
   "cell_type": "code",
   "execution_count": 53,
   "id": "bf0ed447",
   "metadata": {},
   "outputs": [],
   "source": [
    "df_dataset = df_dataset[[\"concept_name\",\n",
    "    \"description\",\n",
    "    \"keywords\",\n",
    "    \"category\",\n",
    "    \"subcategory\",\n",
    "    \"difficulty_level\",\n",
    "    \"mathematical_foundation\",\n",
    "    \"application_area\",\n",
    "    \"first_introduced_year\",\n",
    "    \"popularity_score\",\n",
    "    \"is_probabilistic\"]]"
   ]
  },
  {
   "cell_type": "code",
   "execution_count": 54,
   "id": "7993eca4",
   "metadata": {},
   "outputs": [],
   "source": [
    "def clean_string(text):\n",
    "    if pd.isna(text):\n",
    "        return \"\"\n",
    "    text = str(text).strip()\n",
    "\n",
    "    if text.lower() in {\"n/a\", \"na\", \"undefined\", \"unknown\", \"none\"}:\n",
    "        return \"\"\n",
    "    \n",
    "    return re.sub(r\"\\s+\", \" \", text)"
   ]
  },
  {
   "cell_type": "code",
   "execution_count": 55,
   "id": "14442757",
   "metadata": {},
   "outputs": [],
   "source": [
    "def norm_concept_name(concept_name):\n",
    "    norm = clean_string(concept_name)\n",
    "\n",
    "    if norm.isupper() and len(norm.split()) <= 3:\n",
    "        return norm\n",
    "    return norm.title()"
   ]
  },
  {
   "cell_type": "code",
   "execution_count": 56,
   "id": "5f407552",
   "metadata": {},
   "outputs": [],
   "source": [
    "def parse_year(value):\n",
    "    if pd.isna(value):\n",
    "        return np.nan\n",
    "    m = re.search(r\"(\\d{4})\", str(value))\n",
    "\n",
    "    return int(m.group(1)) if m else np.nan"
   ]
  },
  {
   "cell_type": "code",
   "execution_count": 57,
   "id": "d46b5efe",
   "metadata": {},
   "outputs": [],
   "source": [
    "def parse_popularity(value):\n",
    "    s = str(value).lower()\n",
    "\n",
    "    mapping = {\"high\": 90, \"medium\": 50, \"low\": 10}\n",
    "\n",
    "    try:\n",
    "        if re.fullmatch(r'\\d+(\\.\\d+)?', s):\n",
    "            return float(s)\n",
    "    except:\n",
    "        pass\n",
    "\n",
    "    return mapping.get(s, np.nan)"
   ]
  },
  {
   "cell_type": "code",
   "execution_count": 58,
   "id": "d4221de8",
   "metadata": {},
   "outputs": [],
   "source": [
    "def parse_bool(val):\n",
    "    s = str(val).lower()\n",
    "    if s in {\"true\",\"1\",\"yes\",\"y\"}:\n",
    "        return True\n",
    "    if s in {\"false\",\"0\",\"no\",\"n\"}:\n",
    "        return False\n",
    "    return np.nan"
   ]
  },
  {
   "cell_type": "code",
   "execution_count": 59,
   "id": "576be6a8",
   "metadata": {},
   "outputs": [],
   "source": [
    "def parse_keywords(val):\n",
    "    if pd.isna(val):\n",
    "        return []\n",
    "    s = str(val).strip()\n",
    "    if \";\" in s:\n",
    "        return [p.strip() for p in s.split(\";\") if p.strip()]\n",
    "    if s.startswith(\"[\") and s.endswith(\"]\"):\n",
    "        inner = s[1:-1]\n",
    "        return [p.strip().strip(\"'\\\"\") for p in inner.split(\",\") if p.strip()]\n",
    "    return [p.strip() for p in re.split(r'[,;]', s) if p.strip()]"
   ]
  },
  {
   "cell_type": "code",
   "execution_count": 60,
   "id": "6d3796cd",
   "metadata": {},
   "outputs": [],
   "source": [
    "df_dataset['concept_name'] = df_dataset['concept_name'].apply(norm_concept_name)\n",
    "df_dataset['description'] = df_dataset['description'].apply(clean_string)\n",
    "df_dataset['category'] = df_dataset['category'].apply(lambda x: clean_string(x).title())\n",
    "df_dataset['subcategory'] = df_dataset['subcategory'].apply(lambda x: clean_string(x).title())\n",
    "df_dataset['difficulty_level'] = df_dataset['difficulty_level'].apply(lambda x: clean_string(x).title())\n",
    "df_dataset['mathematical_foundation'] = df_dataset['mathematical_foundation'].apply(lambda x: clean_string(x).title())\n",
    "df_dataset['application_area'] = df_dataset['application_area'].apply(lambda x: clean_string(x).title())\n",
    "df_dataset['first_introduced_year'] = df_dataset['first_introduced_year'].apply(parse_year)\n",
    "df_dataset['popularity_score'] = df_dataset['popularity_score'].apply(parse_popularity)\n",
    "df_dataset['is_probabilistic'] = df_dataset['is_probabilistic'].apply(parse_bool)\n",
    "df_dataset['keywords_parsed'] = df_dataset['keywords'].apply(parse_keywords)"
   ]
  },
  {
   "cell_type": "code",
   "execution_count": 61,
   "id": "d36b4851",
   "metadata": {},
   "outputs": [
    {
     "name": "stderr",
     "output_type": "stream",
     "text": [
      "C:\\Users\\rusir.DESKTOP-KQL31O4\\AppData\\Local\\Temp\\ipykernel_8000\\3200352076.py:1: FutureWarning: A value is trying to be set on a copy of a DataFrame or Series through chained assignment using an inplace method.\n",
      "The behavior will change in pandas 3.0. This inplace method will never work because the intermediate object on which we are setting values always behaves as a copy.\n",
      "\n",
      "For example, when doing 'df[col].method(value, inplace=True)', try using 'df.method({col: value}, inplace=True)' or df[col] = df[col].method(value) instead, to perform the operation inplace on the original object.\n",
      "\n",
      "\n",
      "  df_dataset['first_introduced_year'].fillna(df_dataset['first_introduced_year'].mode()[0], inplace=True)\n",
      "C:\\Users\\rusir.DESKTOP-KQL31O4\\AppData\\Local\\Temp\\ipykernel_8000\\3200352076.py:2: FutureWarning: A value is trying to be set on a copy of a DataFrame or Series through chained assignment using an inplace method.\n",
      "The behavior will change in pandas 3.0. This inplace method will never work because the intermediate object on which we are setting values always behaves as a copy.\n",
      "\n",
      "For example, when doing 'df[col].method(value, inplace=True)', try using 'df.method({col: value}, inplace=True)' or df[col] = df[col].method(value) instead, to perform the operation inplace on the original object.\n",
      "\n",
      "\n",
      "  df_dataset['popularity_score'].fillna(df_dataset['popularity_score'].median(), inplace=True)\n",
      "C:\\Users\\rusir.DESKTOP-KQL31O4\\AppData\\Local\\Temp\\ipykernel_8000\\3200352076.py:3: FutureWarning: Downcasting object dtype arrays on .fillna, .ffill, .bfill is deprecated and will change in a future version. Call result.infer_objects(copy=False) instead. To opt-in to the future behavior, set `pd.set_option('future.no_silent_downcasting', True)`\n",
      "  df_dataset['is_probabilistic'].fillna(df_dataset['is_probabilistic'].fillna(False), inplace=True)\n",
      "C:\\Users\\rusir.DESKTOP-KQL31O4\\AppData\\Local\\Temp\\ipykernel_8000\\3200352076.py:3: FutureWarning: A value is trying to be set on a copy of a DataFrame or Series through chained assignment using an inplace method.\n",
      "The behavior will change in pandas 3.0. This inplace method will never work because the intermediate object on which we are setting values always behaves as a copy.\n",
      "\n",
      "For example, when doing 'df[col].method(value, inplace=True)', try using 'df.method({col: value}, inplace=True)' or df[col] = df[col].method(value) instead, to perform the operation inplace on the original object.\n",
      "\n",
      "\n",
      "  df_dataset['is_probabilistic'].fillna(df_dataset['is_probabilistic'].fillna(False), inplace=True)\n"
     ]
    }
   ],
   "source": [
    "df_dataset['first_introduced_year'].fillna(df_dataset['first_introduced_year'].mode()[0], inplace=True)\n",
    "df_dataset['popularity_score'].fillna(df_dataset['popularity_score'].median(), inplace=True)\n",
    "df_dataset['is_probabilistic'].fillna(df_dataset['is_probabilistic'].fillna(False), inplace=True)"
   ]
  },
  {
   "cell_type": "code",
   "execution_count": 62,
   "id": "7485f2cf",
   "metadata": {},
   "outputs": [],
   "source": [
    "df_dataset = df_dataset.drop_duplicates(subset=['concept_name', 'description']).reset_index(drop=True)"
   ]
  },
  {
   "cell_type": "code",
   "execution_count": 63,
   "id": "54bf647b",
   "metadata": {},
   "outputs": [
    {
     "name": "stdout",
     "output_type": "stream",
     "text": [
      "After Cleaning :  (51005, 12)\n"
     ]
    }
   ],
   "source": [
    "print(\"After Cleaning : \", df_dataset.shape)"
   ]
  },
  {
   "cell_type": "code",
   "execution_count": 66,
   "id": "6a5c3160",
   "metadata": {},
   "outputs": [],
   "source": [
    "#df_dataset.to_csv('cleaned_dataset.csv', index=False)"
   ]
  }
 ],
 "metadata": {
  "kernelspec": {
   "display_name": "myenv",
   "language": "python",
   "name": "python3"
  },
  "language_info": {
   "codemirror_mode": {
    "name": "ipython",
    "version": 3
   },
   "file_extension": ".py",
   "mimetype": "text/x-python",
   "name": "python",
   "nbconvert_exporter": "python",
   "pygments_lexer": "ipython3",
   "version": "3.9.23"
  }
 },
 "nbformat": 4,
 "nbformat_minor": 5
}
